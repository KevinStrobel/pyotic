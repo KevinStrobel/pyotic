{
 "cells": [
  {
   "cell_type": "code",
   "execution_count": null,
   "metadata": {
    "collapsed": false
   },
   "outputs": [],
   "source": [
    "import sys\n",
    "sys.path.append('../..')\n",
    "\n",
    "import pyotc\n",
    "\n",
    "pyotc.plt.ion()"
   ]
  },
  {
   "cell_type": "markdown",
   "metadata": {},
   "source": [
    "### Generate HeightCalibration object and get PSD data from files"
   ]
  },
  {
   "cell_type": "code",
   "execution_count": null,
   "metadata": {
    "collapsed": false
   },
   "outputs": [],
   "source": [
    "hc = pyotc.HeightCalibration()\n",
    "\n",
    "basename = 'B01_'\n",
    "directory = '../exampleData/height_calibration_single_psds/'\n",
    "\n",
    "hc.get_psd_files(basename, directory=directory);\n",
    "\n",
    "# bounds = {'x': (10, 20e3), 'y': (10, 20e3), 'z': (10, 4e3)}\n",
    "bounds = (1, 45e3)\n",
    "# bounds = None\n",
    "\n",
    "#f_ex = {'x': [12, 88], 'y': [8, 48, 52], 'z': [48]}\n",
    "f_ex = None\n",
    "\n",
    "hc.gen_psd_fits(bounds=bounds, f_exclude=f_ex)"
   ]
  },
  {
   "cell_type": "markdown",
   "metadata": {},
   "source": [
    "### Fit the PSDs"
   ]
  },
  {
   "cell_type": "code",
   "execution_count": null,
   "metadata": {
    "collapsed": false
   },
   "outputs": [],
   "source": [
    "''' If dynamic is set to True, the set height is used to determine if a\n",
    "    fit is run with a Lorentzian PSD or a hydrodynamically correct PSD. '''\n",
    "\n",
    "hc.setup_psd_fits(model='lorentzian', lp_filter=True, lp_fixed=True, f3dB=8800, alpha=0.3)\n",
    "\n",
    "bounds = {'x': (1, 20e3), 'y': (1, 20e3), 'z': (1, 10e3)}\n",
    "#bounds = (100, 45e3)\n",
    "#bounds = None\n",
    "\n",
    "#f_ex = {'x': [12, 88], 'y': [8, 48, 52], 'z': [48]}\n",
    "f_ex = 8.0  # exclude crosstalk from excitation\n",
    "\n",
    "# kwargs = {'f_c': 4e3}  # initial guesses\n",
    "kwargs = {}\n",
    "\n",
    "hc.fit_psds(bounds=bounds, f_exclude=f_ex,\n",
    "            fitreport=0, plot_fits=True,\n",
    "            use_heights=False, plot_kws={'showLegend': False}, **kwargs);"
   ]
  },
  {
   "cell_type": "markdown",
   "metadata": {},
   "source": [
    "### determine focal shift"
   ]
  },
  {
   "cell_type": "code",
   "execution_count": null,
   "metadata": {
    "collapsed": false,
    "scrolled": false
   },
   "outputs": [],
   "source": [
    "hc.determine_focal_shift(idx_slice=slice(22, -4))"
   ]
  },
  {
   "cell_type": "markdown",
   "metadata": {},
   "source": [
    "#### set the focal shift"
   ]
  },
  {
   "cell_type": "code",
   "execution_count": null,
   "metadata": {
    "collapsed": true
   },
   "outputs": [],
   "source": [
    "hc.focal_shift = 0.63"
   ]
  },
  {
   "cell_type": "code",
   "execution_count": null,
   "metadata": {
    "collapsed": false
   },
   "outputs": [],
   "source": [
    "hc.plot_pc_results()"
   ]
  },
  {
   "cell_type": "markdown",
   "metadata": {},
   "source": [
    "### exclude some data"
   ]
  },
  {
   "cell_type": "code",
   "execution_count": null,
   "metadata": {
    "collapsed": true
   },
   "outputs": [],
   "source": [
    "hc.exclude_heights_outside(0.2, 10, reset=True)"
   ]
  },
  {
   "cell_type": "code",
   "execution_count": null,
   "metadata": {
    "collapsed": false
   },
   "outputs": [],
   "source": [
    "hc.fit_rel_drag(method='radius', plot_fit=True, h0=-0.6)"
   ]
  },
  {
   "cell_type": "markdown",
   "metadata": {},
   "source": [
    "#### find out which surface height was determined"
   ]
  },
  {
   "cell_type": "code",
   "execution_count": null,
   "metadata": {
    "collapsed": false
   },
   "outputs": [],
   "source": [
    "hc.rel_drag_fit.params['h0']"
   ]
  },
  {
   "cell_type": "markdown",
   "metadata": {},
   "source": [
    "### fit all data"
   ]
  },
  {
   "cell_type": "code",
   "execution_count": null,
   "metadata": {
    "collapsed": false
   },
   "outputs": [],
   "source": [
    "hc.fit_height_data(method='radius', fit_dissens_osci=True, plot_fit=True, fit_drag_first=False)"
   ]
  },
  {
   "cell_type": "code",
   "execution_count": null,
   "metadata": {
    "collapsed": false
   },
   "outputs": [],
   "source": [
    "hc.save_hc_data()"
   ]
  },
  {
   "cell_type": "markdown",
   "metadata": {},
   "source": [
    "#### adjust heights"
   ]
  },
  {
   "cell_type": "code",
   "execution_count": null,
   "metadata": {
    "collapsed": true
   },
   "outputs": [],
   "source": [
    "hc.add_height_offset(0.5809)"
   ]
  },
  {
   "cell_type": "code",
   "execution_count": null,
   "metadata": {
    "collapsed": true
   },
   "outputs": [],
   "source": [
    "hc.reset_recalc()"
   ]
  },
  {
   "cell_type": "code",
   "execution_count": null,
   "metadata": {
    "collapsed": false
   },
   "outputs": [],
   "source": [
    "hc.plot_pc_results()"
   ]
  },
  {
   "cell_type": "markdown",
   "metadata": {},
   "source": [
    "### re-fit psds (if necessary)"
   ]
  },
  {
   "cell_type": "code",
   "execution_count": null,
   "metadata": {
    "collapsed": false
   },
   "outputs": [],
   "source": [
    "hc.setup_psd_fits(model='lorentzian', lp_filter=True, lp_fixed=True, f3dB=8800, alpha=0.3)\n",
    "\n",
    "# heights = [1.00, ]\n",
    "heights = None  # fit all available psds\n",
    "\n",
    "# names = ['x', 'y']  # fit only particular axes\n",
    "names = None  # fir all available axes\n",
    "\n",
    "bounds = {'x': (1, 20e3), 'y': (1, 20e3), 'z': (1, 10e3)}\n",
    "#bounds = (100, 45e3)\n",
    "#bounds = None\n",
    "\n",
    "#f_ex = {'x': [12, 88], 'y': [8, 48, 52], 'z': [48]}\n",
    "f_ex = 8.0\n",
    "\n",
    "# kwargs = {'f_c': 4e3}  # initial guesses\n",
    "kwargs = {}\n",
    "\n",
    "hc.fit_psds(heights=heights, names=names, bounds=bounds, f_exclude=f_ex,\n",
    "            fitreport=0, plot_fits=True, use_heights=True,\n",
    "            plot_kws={'showLegend': False}, **kwargs);"
   ]
  },
  {
   "cell_type": "code",
   "execution_count": null,
   "metadata": {
    "collapsed": false
   },
   "outputs": [],
   "source": [
    "hc.plot_pc_results()"
   ]
  },
  {
   "cell_type": "code",
   "execution_count": null,
   "metadata": {
    "collapsed": true
   },
   "outputs": [],
   "source": [
    "hc.exclude_heights_outside(0.8, 10, reset=True)"
   ]
  },
  {
   "cell_type": "code",
   "execution_count": null,
   "metadata": {
    "collapsed": false
   },
   "outputs": [],
   "source": [
    "hc.fit_rel_drag(plot_fit=True)"
   ]
  },
  {
   "cell_type": "code",
   "execution_count": null,
   "metadata": {
    "collapsed": false
   },
   "outputs": [],
   "source": [
    "hc.rel_drag_fit.params['h0']"
   ]
  },
  {
   "cell_type": "code",
   "execution_count": null,
   "metadata": {
    "collapsed": false,
    "scrolled": true
   },
   "outputs": [],
   "source": [
    "hc.fit_height_data(fit_drag_first=False, fit_dissens_osci=True, plot_fit=True)"
   ]
  },
  {
   "cell_type": "code",
   "execution_count": null,
   "metadata": {
    "collapsed": false,
    "scrolled": true
   },
   "outputs": [],
   "source": [
    "# save height-dependent data\n",
    "hc.save_hc_data(basename, directory)"
   ]
  },
  {
   "cell_type": "code",
   "execution_count": null,
   "metadata": {
    "collapsed": false
   },
   "outputs": [],
   "source": [
    "# save height-fit results\n",
    "hc.write_results_to_file()"
   ]
  },
  {
   "cell_type": "code",
   "execution_count": null,
   "metadata": {
    "collapsed": true
   },
   "outputs": [],
   "source": []
  }
 ],
 "metadata": {
  "kernelspec": {
   "display_name": "Python 3",
   "language": "python",
   "name": "python3"
  },
  "language_info": {
   "codemirror_mode": {
    "name": "ipython",
    "version": 3
   },
   "file_extension": ".py",
   "mimetype": "text/x-python",
   "name": "python",
   "nbconvert_exporter": "python",
   "pygments_lexer": "ipython3",
   "version": "3.4.2"
  }
 },
 "nbformat": 4,
 "nbformat_minor": 0
}
