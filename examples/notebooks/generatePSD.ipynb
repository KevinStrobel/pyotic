{
 "cells": [
  {
   "cell_type": "code",
   "execution_count": null,
   "metadata": {
    "collapsed": false,
    "scrolled": true
   },
   "outputs": [],
   "source": [
    "import sys\n",
    "sys.path.append('../..')\n",
    "\n",
    "import pyotc"
   ]
  },
  {
   "cell_type": "markdown",
   "metadata": {},
   "source": [
    "### Generate a PSD"
   ]
  },
  {
   "cell_type": "markdown",
   "metadata": {},
   "source": [
    "#### pure Lorentzian"
   ]
  },
  {
   "cell_type": "code",
   "execution_count": null,
   "metadata": {
    "collapsed": false
   },
   "outputs": [],
   "source": [
    "from pyotc.psd import low_pass_filter\n",
    "from pyotc.psd import gen_filtered_data\n",
    "from scipy import arange\n",
    "\n",
    "fs = 1024  # Hz\n",
    "T_msr = 10\n",
    "\n",
    "t = arange(0, T_msr, 1/fs)\n",
    "\n",
    "# this should generate pure lorentzian psds\n",
    "x = gen_filtered_data(low_pass_filter, fs, T_msr, 1400) * 0.4\n",
    "y = gen_filtered_data(low_pass_filter, fs, T_msr, 1200) * 0.4\n",
    "z = gen_filtered_data(low_pass_filter, fs, T_msr, 150) + 4.5"
   ]
  },
  {
   "cell_type": "code",
   "execution_count": null,
   "metadata": {
    "collapsed": false,
    "scrolled": false
   },
   "outputs": [],
   "source": [
    "pyotc.plt.close('all')\n",
    "fig =pyotc.plt.figure(figsize=(8, 4))\n",
    "ax = pyotc.add_plot_to_figure(fig, t, x, fmt='-b', linewidth=1, alpha=0.5, label='x')\n",
    "pyotc.add_plot_to_figure(fig, t, y, fmt='-g', linewidth=1, alpha=0.5, label='y')\n",
    "pyotc.add_plot_to_figure(fig, t, z, fmt='-', color='orange', linewidth=1, alpha=0.7, label='z',\n",
    "                         xlabel='Time', ylabel='Signal')\n",
    "\n",
    "ax.set_xticklabels([])\n",
    "ax.set_yticklabels([])\n",
    "fig"
   ]
  },
  {
   "cell_type": "markdown",
   "metadata": {},
   "source": [
    "### Generate an aliased and lp-filtered Lorentzian and hydro PSD"
   ]
  },
  {
   "cell_type": "code",
   "execution_count": null,
   "metadata": {
    "collapsed": false
   },
   "outputs": [],
   "source": [
    "# create fine data with ~2.5 MHz\n",
    "\n",
    "fs = 40000  # Hz\n",
    "fs_full = fs * 25\n",
    "\n",
    "T_msr = 10\n",
    "\n",
    "#t = arange(0, T_msr, 1/fs)\n",
    "\n",
    "# generate a pure lorentzian psd\n",
    "x_full = gen_filtered_data(low_pass_filter, fs_full, T_msr, 1000)\n",
    "# aliased sampling\n",
    "x_aliased = x_full[0::25]"
   ]
  },
  {
   "cell_type": "code",
   "execution_count": null,
   "metadata": {
    "collapsed": false
   },
   "outputs": [],
   "source": [
    "def lp2_(freq, f3dB_1, f3dB_2, alpha_1, alpha_2):\n",
    "    f = low_pass_filter(freq, f3dB_1, alpha=alpha_1) * low_pass_filter(freq, f3dB_2, alpha_2)\n",
    "    return f\n",
    "\n",
    "y = gen_filtered_data(lp2_, fs, T_msr, 1000, 5000, 0, 0.5)"
   ]
  },
  {
   "cell_type": "code",
   "execution_count": null,
   "metadata": {
    "collapsed": false
   },
   "outputs": [],
   "source": [
    "from pyotc import k_B, drag\n",
    "\n",
    "radius = 1.0e-6\n",
    "temp = 300\n",
    "\n",
    "D = k_B * temp / drag(radius, temp)\n",
    "f_c = 1200\n",
    "\n",
    "height = 10e-6\n",
    "rho=4500\n",
    "\n",
    "expset = pyotc.psd.ExpSetting(temp, radius, height=height, material='Titania',\n",
    "                              temp_unit='K', radius_unit='m', height_unit='m')\n",
    "\n",
    "psdm = pyotc.PSDMeasurement(exp_setting=expset)\n",
    "\n",
    "psd = pyotc.gen_PSD_from_time_series(x_aliased, fs, 40, name='x')\n",
    "psdm.add_psd('x', psd)\n",
    "psd = pyotc.gen_PSD_from_time_series(y, fs, 40, name='y',)\n",
    "psdm.add_psd('y', psd)"
   ]
  },
  {
   "cell_type": "code",
   "execution_count": null,
   "metadata": {
    "collapsed": false
   },
   "outputs": [],
   "source": [
    "from pyotc.psd import hydro_psd, lorentzian_psd\n",
    "\n",
    "z = gen_filtered_data(hydro_psd, fs, T_msr, D, f_c, radius=radius, height=height, temp=temp, rho=rho) * 1e9  # in nm\n",
    "\n",
    "psd = pyotc.gen_PSD_from_time_series(z, fs, 40, name='z')\n",
    "psdm.add_psd('z', psd)"
   ]
  },
  {
   "cell_type": "code",
   "execution_count": null,
   "metadata": {
    "collapsed": false
   },
   "outputs": [],
   "source": [
    "psdm.plot_psds(figsize=(4.5, 3))"
   ]
  },
  {
   "cell_type": "markdown",
   "metadata": {},
   "source": [
    "###  setup fits and fit the data"
   ]
  },
  {
   "cell_type": "code",
   "execution_count": null,
   "metadata": {
    "collapsed": false
   },
   "outputs": [],
   "source": [
    "pf = pyotc.PSDFit(psdm)\n",
    "pf.setup_fit(names='x', model='lorentzian', aliasing=True, f_sample=psdm.get_f_sample('x'), N_alias=9)\n",
    "pf.setup_fit(names='y', model='lorentzian', lp_filter=True, lp_fixed=False, f3dB=10e3, alpha=0.1)\n",
    "pf.setup_fit(names='z', model='hydro')\n",
    "#pf.fit_kwargs"
   ]
  },
  {
   "cell_type": "code",
   "execution_count": null,
   "metadata": {
    "collapsed": false
   },
   "outputs": [],
   "source": [
    "pf.fit_psds()"
   ]
  },
  {
   "cell_type": "code",
   "execution_count": null,
   "metadata": {
    "collapsed": false
   },
   "outputs": [],
   "source": [
    "pf.plot_fits(plot_data=True, showLegend=False)"
   ]
  },
  {
   "cell_type": "markdown",
   "metadata": {},
   "source": [
    "### fit to user defined function"
   ]
  },
  {
   "cell_type": "code",
   "execution_count": null,
   "metadata": {
    "collapsed": false
   },
   "outputs": [],
   "source": [
    "from scipy import ones\n",
    "\n",
    "pf.setup_fit('x', model='other')\n",
    "\n",
    "kws = pf.fit_kwargs['x']\n",
    "\n",
    "def fun(freq, D, f_c, parameterx, **other):\n",
    "    return parameterx * (freq)\n",
    "\n",
    "# pfun = partial(fun, **other)\n",
    "\n",
    "kws['model_fun'] = fun\n",
    "kws['name'] = 'userdefined'\n",
    "kws['parameterx'] = 10.0\n",
    "kws['param_names'] = ['D', 'f_c', 'parameterx']\n",
    "#kws['expon'] = 2\n",
    "pf.fit_kwargs['x'].update(kws)\n",
    "pf.fit_kwargs['x']"
   ]
  },
  {
   "cell_type": "code",
   "execution_count": null,
   "metadata": {
    "collapsed": false
   },
   "outputs": [],
   "source": [
    "pf.fit_psd('x')"
   ]
  },
  {
   "cell_type": "code",
   "execution_count": null,
   "metadata": {
    "collapsed": false
   },
   "outputs": [],
   "source": [
    "pf.plot_fits(names='x', plot_data=1)"
   ]
  },
  {
   "cell_type": "code",
   "execution_count": null,
   "metadata": {
    "collapsed": true
   },
   "outputs": [],
   "source": []
  }
 ],
 "metadata": {
  "kernelspec": {
   "display_name": "Python 3",
   "language": "python",
   "name": "python3"
  },
  "language_info": {
   "codemirror_mode": {
    "name": "ipython",
    "version": 3
   },
   "file_extension": ".py",
   "mimetype": "text/x-python",
   "name": "python",
   "nbconvert_exporter": "python",
   "pygments_lexer": "ipython3",
   "version": "3.4.2"
  }
 },
 "nbformat": 4,
 "nbformat_minor": 0
}
