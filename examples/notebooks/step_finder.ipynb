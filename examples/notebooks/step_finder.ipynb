{
 "cells": [
  {
   "cell_type": "markdown",
   "metadata": {},
   "source": [
    "## Import investigator package of the PyOTIC software"
   ]
  },
  {
   "cell_type": "code",
   "execution_count": null,
   "metadata": {},
   "outputs": [],
   "source": [
    "# Import os to easily join names of filepaths\n",
    "import os\n",
    "\n",
    "# Add the path of the PyOTIC Software to the system path\n",
    "# Adjust this path to where the PyOTIC Software package is located\n",
    "import sys\n",
    "sys.path.append('../../')\n",
    "\n",
    "#Load investigator package\n",
    "import pyoti\n",
    "pyoti.info()\n",
    "\n",
    "#Create an experiment and open a new temporary experiment dbfile\n",
    "experiment = pyoti.open_experiment()"
   ]
  },
  {
   "cell_type": "markdown",
   "metadata": {},
   "source": [
    "## Create experiment file (or open previously saved one)"
   ]
  },
  {
   "cell_type": "code",
   "execution_count": null,
   "metadata": {},
   "outputs": [],
   "source": [
    "# Choose the path the data should be loaded from\n",
    "#\n",
    "# datadir: The path where the data is located\n",
    "# datafile: The name of the file that contains the data.\n",
    "datadir = '../data/'\n",
    "datafile = 'B01.bin'"
   ]
  },
  {
   "cell_type": "code",
   "execution_count": null,
   "metadata": {},
   "outputs": [],
   "source": [
    "# Define a name for the record (defaults to 'default')\n",
    "name='alpha'\n",
    "\n",
    "# Choose the file, where standard values for the Record are defined\n",
    "cfgfile = '../pyoti/etc/record/ASWAD.cfg'\n",
    "\n",
    "experiment.create_record(name=name, cfgfile=cfgfile, filename=datafile, directory=datadir)"
   ]
  },
  {
   "cell_type": "code",
   "execution_count": null,
   "metadata": {},
   "outputs": [],
   "source": [
    "name = 'used'\n",
    "group = 'selection'\n",
    "parent = 'alpha'\n",
    "\n",
    "experiment.add_group(name, parent, group_type=group)"
   ]
  },
  {
   "cell_type": "markdown",
   "metadata": {},
   "source": [
    "# Simple and fast step detection for SNR >> 1.0"
   ]
  },
  {
   "cell_type": "code",
   "execution_count": null,
   "metadata": {},
   "outputs": [],
   "source": [
    "# Select region to get data from\n",
    "region = 'used'\n",
    "\n",
    "# Get region and motion object, to detect the steps and dwells\n",
    "region = experiment.region(region)\n",
    "motion = pyoti.create_motion(region=region, resolution=40000, impose_dwell_time=4.0, shift_time=0.1)\n",
    "\n",
    "# If you want to include the very first and the very last plateau, uncomment\n",
    "#motion.include_first_last_plateau=True\n",
    "\n",
    "# Show the autodetected plateaus\n",
    "motion.init_rfig(legend=True)"
   ]
  },
  {
   "cell_type": "markdown",
   "metadata": {},
   "source": [
    "# Advanced and slower (still very fast) step detection for SNR <= 1.0 (or better)"
   ]
  },
  {
   "cell_type": "code",
   "execution_count": null,
   "metadata": {},
   "outputs": [],
   "source": [
    "# import necessary modules and functions \n",
    "from pyoti.evaluate.step_finder import simulate_steps\n",
    "from pyoti.evaluate.step_finder import filter_find_analyse_steps, plot_result\n",
    "from matplotlib import pyplot as plt\n",
    "# Set the standard figure size to 9 x 9 inch\n",
    "from pylab import rcParams\n",
    "rcParams['figure.figsize'] = 9, 9"
   ]
  },
  {
   "cell_type": "code",
   "execution_count": null,
   "metadata": {
    "collapsed": true
   },
   "outputs": [],
   "source": [
    "### Either, get data from the region\n",
    "data = region.get_data('psdX')[:,0]\n",
    "resolution = region.samplingrate"
   ]
  },
  {
   "cell_type": "code",
   "execution_count": null,
   "metadata": {},
   "outputs": [],
   "source": [
    "### Or, simulate step data\n",
    "duration = 1.0  # s\n",
    "resolution = 40000.0  # Hz\n",
    "dwell_time = 0.050  # s\n",
    "SNR = 0.5\n",
    "simulated_steps = simulate_steps(duration=duration, resolution=resolution,\n",
    "                                 dwell_time=dwell_time, SNR=SNR)\n",
    "data = simulated_steps.data + simulated_steps.noise"
   ]
  },
  {
   "cell_type": "code",
   "execution_count": null,
   "metadata": {},
   "outputs": [],
   "source": [
    "### Filter the data, find the steps and plot the result\n",
    "### Filter data\n",
    "filter_time =  None  # None or s\n",
    "filter_min_t = 0.001  # None or s\n",
    "filter_max_t = 0.015  # None or s\n",
    "filter_number = 25  # None or number\n",
    "edginess = 3  # int\n",
    "### Find steps in fbnl filtered data\n",
    "expected_min_step_size = 8.0  # in values of data\n",
    "expected_min_dwell_t = None  # None or s\n",
    "step_size_threshold = None  # None (equal to 'adapt'), 'constant', or in values of data\n",
    "\n",
    "step_finder_result, fig1 \\\n",
    "    = filter_find_analyse_steps(data, resolution, filter_time, filter_min_t, filter_max_t,\n",
    "                                filter_number, edginess,\n",
    "                                expected_min_step_size, expected_min_dwell_t,\n",
    "                                step_size_threshold, cap_data=True,\n",
    "                                verbose=True, plot=True)\n",
    "\n",
    "### Plot data and step finder result\n",
    "fig2, fig3 = plot_result(step_finder_result)#, simulated_steps)\n",
    "plt.show(fig1)\n",
    "plt.show(fig2)\n",
    "plt.show(fig3)"
   ]
  }
 ],
 "metadata": {
  "kernelspec": {
   "display_name": "Python 3",
   "language": "python",
   "name": "python3"
  },
  "language_info": {
   "codemirror_mode": {
    "name": "ipython",
    "version": 3
   },
   "file_extension": ".py",
   "mimetype": "text/x-python",
   "name": "python",
   "nbconvert_exporter": "python",
   "pygments_lexer": "ipython3",
   "version": "3.5.3"
  }
 },
 "nbformat": 4,
 "nbformat_minor": 1
}
