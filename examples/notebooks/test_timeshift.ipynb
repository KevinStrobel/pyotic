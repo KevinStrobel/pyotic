{
 "cells": [
  {
   "cell_type": "markdown",
   "metadata": {
    "deletable": true,
    "editable": true
   },
   "source": [
    "## Import investigator package of the PyOTIC software"
   ]
  },
  {
   "cell_type": "code",
   "execution_count": null,
   "metadata": {
    "collapsed": false,
    "deletable": true,
    "editable": true
   },
   "outputs": [],
   "source": [
    "# Import os to easily join names of filepaths\n",
    "import os\n",
    "\n",
    "# Add the path of the PyOTIC Software to the system path\n",
    "# Adjust this path to where the PyOTIC Software package is located\n",
    "import sys\n",
    "sys.path.append('../../')\n",
    "\n",
    "#Load investigator package\n",
    "import pyoti\n",
    "pyoti.info()\n",
    "\n",
    "#Create an experiment and open a new temporary experiment dbfile\n",
    "experiment = pyoti.open_experiment()"
   ]
  },
  {
   "cell_type": "markdown",
   "metadata": {
    "deletable": true,
    "editable": true
   },
   "source": [
    "## Create experiment file (or open previously saved one)"
   ]
  },
  {
   "cell_type": "code",
   "execution_count": null,
   "metadata": {
    "collapsed": false,
    "deletable": true,
    "editable": true,
    "scrolled": true
   },
   "outputs": [],
   "source": [
    "# Choose the path the data should be loaded from\n",
    "#\n",
    "# datadir: The path where the data is located\n",
    "# datafile: The name of the file that contains the data.\n",
    "#datadir = '/srv/files/home/tobiasj/data/ASWAD/unwrapping/Henning/2016_05_04-Parameter_Controls/'\n",
    "#datafile = 'test.bin'"
   ]
  },
  {
   "cell_type": "code",
   "execution_count": null,
   "metadata": {
    "collapsed": false,
    "deletable": true,
    "editable": true
   },
   "outputs": [],
   "source": [
    "# save the state of the experiment in the database file\n",
    "experiment.save(pack=True)"
   ]
  },
  {
   "cell_type": "code",
   "execution_count": null,
   "metadata": {
    "collapsed": false,
    "deletable": true,
    "editable": true
   },
   "outputs": [],
   "source": [
    "# show status of Records, Views, MultiRegions, and Modifications in experiment\n",
    "experiment.print_status()"
   ]
  },
  {
   "cell_type": "code",
   "execution_count": null,
   "metadata": {
    "collapsed": false,
    "deletable": true,
    "editable": true
   },
   "outputs": [],
   "source": [
    "# revert changes since last commit of experiment\n",
    "experiment.abort()"
   ]
  },
  {
   "cell_type": "code",
   "execution_count": null,
   "metadata": {
    "collapsed": false,
    "deletable": true,
    "editable": true
   },
   "outputs": [],
   "source": [
    "# cleanup/pack database file\n",
    "experiment.cleanup()"
   ]
  },
  {
   "cell_type": "code",
   "execution_count": null,
   "metadata": {
    "collapsed": false,
    "deletable": true,
    "editable": true
   },
   "outputs": [],
   "source": [
    "# close database file\n",
    "experiment.close()"
   ]
  },
  {
   "cell_type": "markdown",
   "metadata": {
    "deletable": true,
    "editable": true
   },
   "source": [
    "## Create record(s) and add to experiment"
   ]
  },
  {
   "cell_type": "code",
   "execution_count": null,
   "metadata": {
    "collapsed": false,
    "deletable": true,
    "editable": true
   },
   "outputs": [],
   "source": [
    "# Define a name for the record (defaults to 'default')\n",
    "name='alpha'\n",
    "\n",
    "# Define a function that is used to read in the data you want to analyze.\n",
    "# The function needs to receive at least the positional parameter 'filename'.\n",
    "# The return value of the function needs to be the data as a numpy array.\n",
    "# You can (beside other options) use functions that the package numpy offers to read in data:\n",
    "# http://docs.scipy.org/doc/numpy/reference/routines.io.html\n",
    "#\n",
    "# One example, to read in data from a text file with 5 header lines followed by the data,\n",
    "# could look like this:\n",
    "\n",
    "import numpy as np\n",
    "import pyoti.data.labview as lv\n",
    "import os\n",
    "\n",
    "def load_data(filename):\n",
    "    #data = np.loadtxt(filename, skiprows=5)\n",
    "    #data = lv.read_labview_bin_data(filename)[:,0:3]\n",
    "    return np.array([np.arange(30)]).T\n",
    "\n",
    "# Define the samplingrate (either provide a function or simply a variable).\n",
    "# The function gets executed once, upon initialisation of the record. The\n",
    "# return value of the function (or the value of the variable) gets stored in\n",
    "# the record object:\n",
    "#def samplingrate():\n",
    "#    samplingrate = 40000.0\n",
    "#    return samplingrate\n",
    "#samplingrate = 40000.0\n",
    "\n",
    "# Name the traces here, the load_data() function returns. Make sure the \n",
    "# traces are properly describing the data returned by load_data function.\n",
    "# This definition takes precedence over the traces defined in the\n",
    "# configfile (see below)\n",
    "traces = 'psdX'\n",
    "\n",
    "# You can provide a configfile, which, for instance, defines the traces returned by load_data().\n",
    "# If not provided, configfile defaults to '../pyoti/etc/GenericDataFile.cfg'.\n",
    "# You could also create your own setup specific configfile and use GenericDataFile as a template.\n",
    "# Make sure to also add the parameter cfgfile to the function call below, if you define a cfgfile,\n",
    "# like: experiment.create_record(cfgfile=cfgfile, ...)\n",
    "#cfgfile = '../pyoti/etc/record/GenericDataFile.cfg' \n",
    "\n",
    "record = experiment.create_record(name=name, traces=traces, load_data=load_data, filename='test.bin')"
   ]
  },
  {
   "cell_type": "markdown",
   "metadata": {
    "deletable": true,
    "editable": true
   },
   "source": [
    "## Analyse and modify data"
   ]
  },
  {
   "cell_type": "code",
   "execution_count": null,
   "metadata": {
    "collapsed": false,
    "deletable": true,
    "editable": true,
    "scrolled": false
   },
   "outputs": [],
   "source": [
    "name = 'one'\n",
    "group = 'selection'\n",
    "parent = 'alpha'\n",
    "\n",
    "experiment.add_group(name, parent, group_type=group, adjust=False)\n",
    "experiment.get_view(name).start = 0\n",
    "experiment.get_view(name).stop = 10\n",
    "experiment.adjust_view(name)"
   ]
  },
  {
   "cell_type": "code",
   "execution_count": null,
   "metadata": {
    "collapsed": false,
    "deletable": true,
    "editable": true
   },
   "outputs": [],
   "source": [
    "name = 'two'\n",
    "group = 'selection'\n",
    "parent = 'alpha'\n",
    "\n",
    "experiment.add_group(name, parent, group_type=group, adjust=False)\n",
    "experiment.get_view(name).start = 10\n",
    "experiment.get_view(name).stop = 20\n",
    "experiment.adjust_view(name)"
   ]
  },
  {
   "cell_type": "code",
   "execution_count": null,
   "metadata": {
    "collapsed": false,
    "deletable": true,
    "editable": true
   },
   "outputs": [],
   "source": [
    "name = 'three'\n",
    "group = 'selection'\n",
    "parent = 'alpha'\n",
    "\n",
    "experiment.add_group(name, parent, group_type=group, adjust=False)\n",
    "experiment.get_view(name).start = 20\n",
    "experiment.get_view(name).stop = 30\n",
    "experiment.adjust_view(name)"
   ]
  },
  {
   "cell_type": "code",
   "execution_count": null,
   "metadata": {
    "collapsed": false,
    "deletable": true,
    "editable": true
   },
   "outputs": [],
   "source": [
    "experiment.add_view('concat', 'one', adjust=False)\n",
    "experiment.append_to('concat', 'two')\n",
    "experiment.append_to('concat', 'three')\n",
    "experiment.adjust_view('concat')"
   ]
  },
  {
   "cell_type": "code",
   "execution_count": null,
   "metadata": {
    "collapsed": false,
    "deletable": true,
    "editable": true
   },
   "outputs": [],
   "source": [
    "print(experiment.views.concat.sticky_start)\n",
    "print(experiment.views.concat.sticky_stop)\n",
    "experiment.views.concat.start = 5\n",
    "experiment.views.concat.stop = 26\n",
    "print(experiment.views.concat.sticky_start)\n",
    "print(experiment.views.concat.sticky_stop)"
   ]
  },
  {
   "cell_type": "code",
   "execution_count": null,
   "metadata": {
    "collapsed": false,
    "deletable": true,
    "editable": true
   },
   "outputs": [],
   "source": [
    "experiment.adjust_view('concat')"
   ]
  },
  {
   "cell_type": "code",
   "execution_count": null,
   "metadata": {
    "collapsed": true,
    "deletable": true,
    "editable": true
   },
   "outputs": [],
   "source": []
  }
 ],
 "metadata": {
  "kernelspec": {
   "display_name": "Python 3",
   "language": "python",
   "name": "python3"
  },
  "language_info": {
   "codemirror_mode": {
    "name": "ipython",
    "version": 3
   },
   "file_extension": ".py",
   "mimetype": "text/x-python",
   "name": "python",
   "nbconvert_exporter": "python",
   "pygments_lexer": "ipython3",
   "version": "3.5.3"
  }
 },
 "nbformat": 4,
 "nbformat_minor": 0
}
