{
 "cells": [
  {
   "cell_type": "markdown",
   "metadata": {},
   "source": [
    "### import the packages"
   ]
  },
  {
   "cell_type": "code",
   "execution_count": null,
   "metadata": {
    "collapsed": false
   },
   "outputs": [],
   "source": [
    "# Import os to easily join names of filepaths\n",
    "import os\n",
    "\n",
    "# Add the path of the PyOTIC Software to the system path\n",
    "import sys\n",
    "sys.path.append('../..') # notebook is located in original folder of PyOTIC Software \n",
    "#sys.path.append('/srv/ipython-repo/trunk') # notebook is located elsewhere (adjust this path to wher)\n",
    "sys.path.append('../../../PyOTIC/pyoti/')\n",
    "#Load investigator module\n",
    "import pyoti\n",
    "pyoti.info()\n",
    "import pyotc"
   ]
  },
  {
   "cell_type": "markdown",
   "metadata": {},
   "source": [
    "### create experiment and set data path"
   ]
  },
  {
   "cell_type": "code",
   "execution_count": null,
   "metadata": {
    "collapsed": false
   },
   "outputs": [],
   "source": [
    "# Choose the path, were the experiment should be created (or opened from)\n",
    "#\n",
    "# datadir: The path to where the experiment (and the data) are located\n",
    "# datafile: The name of the file that contains the data. Here it is only used to generate dbfile.\n",
    "#           The data is loaded further down upon creation of a Record.\n",
    "# dbfile: The name of the database file the experiment is saved to (or loaded from).\n",
    "\n",
    "datadir = '../exampleData/height_calibration_time_series/'\n",
    "datafile = 'B01.bin'\n",
    "\n",
    "# For the name of the experiment, exchange the extension '.bin' with '.fs'\n",
    "dbfile = os.path.join(datadir, datafile.replace('.bin', '.fs'))\n",
    "\n",
    "# Create the experiment (this will implicitly create/open the dbfile in datadir)\n",
    "# and assign it to the variable 'experiment'\n",
    "experiment = pyoti.open_experiment(dbfile)\n",
    "\n",
    "cfgfile = '../../../PyOTIC/pyoti/pyoti/etc/record/ASWAD.cfg'\n",
    "\n",
    "record = experiment.create_record(filename=datafile,  # data file to read\n",
    "                                  cfgfile=cfgfile,  # setup specific configuration file\n",
    "                                  directory=datadir)  # data directory"
   ]
  },
  {
   "cell_type": "code",
   "execution_count": null,
   "metadata": {
    "collapsed": false
   },
   "outputs": [],
   "source": [
    "experiment.add_view('height_calibration', 'alpha')"
   ]
  },
  {
   "cell_type": "code",
   "execution_count": null,
   "metadata": {
    "collapsed": false
   },
   "outputs": [],
   "source": [
    "dataregion = experiment.view('height_calibration')\n",
    "\n",
    "motion = pyoti.create_motion(region=dataregion,  # region/view object\n",
    "                             resolution=dataregion.samplingrate,  # sampling frequency \n",
    "                             impose_dwell_time=5.0,  # minimum length (in seconds) of the step\n",
    "                             shift_time=0.1)  # delay (in seconds) after the defined step\n",
    "# If you want to include the very first and the very last plateau, uncomment\n",
    "#motion.include_first_last_plateau = True\n",
    "\n",
    "# Show the autodetected plateaus, implicitly calls stepped.update()\n",
    "motion.init_rfig(legend=True)"
   ]
  },
  {
   "cell_type": "markdown",
   "metadata": {},
   "source": [
    "### determine amount of data (time) needed "
   ]
  },
  {
   "cell_type": "code",
   "execution_count": null,
   "metadata": {
    "collapsed": false
   },
   "outputs": [],
   "source": [
    "N_avg = 40\n",
    "ex_freq = 32.0\n",
    "\n",
    "# posible minimum frequencies\n",
    "print([ex_freq/ndiv for ndiv in range(1, 6)])\n",
    "\n",
    "print('choose the minimum frequency:')\n",
    "min_freq = float(input())\n",
    "\n",
    "t_psd = 1/min_freq\n",
    "print('Time for one psd: {0:1.3f} s'.format(t_psd))\n",
    "\n",
    "t_total = N_avg * t_psd\n",
    "print('Time needed for measurement: {0:1.3f} s'.format(t_total))"
   ]
  },
  {
   "cell_type": "code",
   "execution_count": null,
   "metadata": {
    "collapsed": true
   },
   "outputs": [],
   "source": []
  },
  {
   "cell_type": "code",
   "execution_count": null,
   "metadata": {
    "collapsed": false
   },
   "outputs": [],
   "source": [
    "import pyotc\n",
    "## create height calibration from time series (i.e. from pyoti's motion object)\n",
    "# height calib from motion object with specific excitation frequency\n",
    "hcts = pyotc.HeightCalibTime(motion, ex_freq)\n",
    "\n",
    "# set up experimental conditions\n",
    "hcts.set_exp_conditions(29.2,  # temperature\n",
    "                        1.0,  # radius\n",
    "                        temp_err=0.001,\n",
    "                        radius_err=0.01,\n",
    "                        material='PS',\n",
    "                        medium='water',\n",
    "                        temp_unit='degC',\n",
    "                        radius_unit='um')\n",
    "\n",
    "hc = hcts.gen_height_calibration(N_avg, invert_z_signal=True, kws_psdfit={'ppd': 30})"
   ]
  },
  {
   "cell_type": "code",
   "execution_count": null,
   "metadata": {
    "collapsed": false
   },
   "outputs": [],
   "source": [
    "hc.setup_psd_fits(model='hydro')\n",
    "\n",
    "bounds = {'psdX': (150, 8500), 'psdY': (150, 8500), 'psdZ': (150, 3000)}\n",
    "#bounds = None\n",
    "f_exclude = None\n",
    "\n",
    "hc.fit_psds(bounds=bounds, f_exclude=f_exclude, plot_fits=True);"
   ]
  },
  {
   "cell_type": "code",
   "execution_count": null,
   "metadata": {
    "collapsed": false
   },
   "outputs": [],
   "source": [
    "hc.plot_pc_results(names=None)\n",
    "#hc.save_hc_data('somename', directory=datadir)"
   ]
  },
  {
   "cell_type": "code",
   "execution_count": null,
   "metadata": {
    "collapsed": false
   },
   "outputs": [],
   "source": [
    "hc._names = ['psdX', 'psdY'] # trick to not fit z data\n",
    "\n",
    "hc.focal_shift = 0.8\n",
    "hc.ref_ind = 1.326\n",
    "hc.set_wavelength(1064, unit='nm')\n",
    "\n",
    "hc.fit_height_data(plot_fit=True, h0=-6)"
   ]
  },
  {
   "cell_type": "code",
   "execution_count": null,
   "metadata": {
    "collapsed": true
   },
   "outputs": [],
   "source": [
    "#hc.write_results_to_file()"
   ]
  }
 ],
 "metadata": {
  "kernelspec": {
   "display_name": "Python 3",
   "language": "python",
   "name": "python3"
  },
  "language_info": {
   "codemirror_mode": {
    "name": "ipython",
    "version": 3
   },
   "file_extension": ".py",
   "mimetype": "text/x-python",
   "name": "python",
   "nbconvert_exporter": "python",
   "pygments_lexer": "ipython3",
   "version": "3.4.2"
  }
 },
 "nbformat": 4,
 "nbformat_minor": 0
}
